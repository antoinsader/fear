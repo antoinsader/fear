{
 "cells": [
  {
   "cell_type": "code",
   "execution_count": null,
   "metadata": {},
   "outputs": [],
   "source": [
    "import numpy as np\n",
    "import pandas as pd\n",
    "import matplotlib.pyplot as plt\n"
   ]
  },
  {
   "cell_type": "markdown",
   "metadata": {},
   "source": [
    "## Part 1: Generative Processes\n",
    "### Simulate experimental data\n",
    "For a differential learning experiment, there are two CS for participants to learn. CS+ represents danger and CS- represents safety.\n",
    "\n",
    "In this simulation, we have 2 CS and 8 TS.\n",
    "\n",
    "“Note that the set.seed function was not used in this part of the simulation, so the generated patterns may differ from those shown in the manuscript. However, it is not important to generate the exact same patterns in this case, as the purpose of the simulation is to illustrate the impact of various parameters on responses rather than to generate specific patterns."
   ]
  },
  {
   "cell_type": "code",
   "execution_count": null,
   "metadata": {},
   "outputs": [],
   "source": [
    "root_folder = \"../../\"\n",
    "plts_folder = root_folder + \"Plots/py/2_SimulationPlots/\"\n"
   ]
  },
  {
   "cell_type": "code",
   "execution_count": null,
   "metadata": {},
   "outputs": [],
   "source": [
    "\n",
    "# Generate a sequence of stimulus sizes ranging from 50.80 to 119.42 in increments of 7.624, then round to 2 decimal places\n",
    "size = np.round(np.arange(50.80, 119.42 + 7.624, 7.624), 2)\n",
    "# Set the CS+ stimulus size to the 5th value in the 'size' sequence\n",
    "CSp_size = size[4]\n",
    "# Set the number of learning trials (Nactrials) and generalization trials (Ngetrials)\n",
    "Nactrials = 24\n",
    "Ngetrials = 76\n",
    "Ntrials = Nactrials + Ngetrials\n",
    "\n",
    "\n",
    "\n",
    "np.random.seed(20221001)\n",
    "# Create a vector 's_size' with the CS+ stimulus size repeated for the number of learning trials, and a random selection of sizes from the 'size' sequence for the number of generalization trials\n",
    "\n",
    "s_size = np.concatenate((np.repeat(CSp_size, Nactrials), np.random.choice(size, Ngetrials, replace=True)))\n",
    "\n",
    "# Calculate the absolute difference between each value in 's_size' and the CS+ stimulus size, then round to the nearest integer\n",
    "d = np.abs(np.round(s_size - CSp_size, 0))\n",
    "\n",
    "# Create a vector 'stimulus' with the values \"CS+\" if the corresponding value in 'd' is 0, and \"TS\" otherwise\n",
    "stimulus = np.where(d == 0, \"CS+\", \"TS\")\n",
    "\n",
    "# Create a vector 'r' with a random selection of 1s and 0s with a probability of 0.8 and 0.2, respectively, and a length equal to the number of trials\n",
    "# Randomly assign response (1 or 0) for each trial with probabilities 0.8 and 0.2\n",
    "r = np.random.choice([1, 0], size=len(s_size), p=[0.8, 0.2])\n",
    "\n",
    "# Create a vector 'k' with the value 1 if the corresponding value in 'd' is 0, and 1 otherwise\n",
    "k = np.where(d == 0, 1, 0)\n",
    "\n"
   ]
  },
  {
   "cell_type": "markdown",
   "metadata": {},
   "source": [
    "### Model:\n"
   ]
  },
  {
   "cell_type": "code",
   "execution_count": null,
   "metadata": {},
   "outputs": [],
   "source": [
    "def lg_fun (alpha, _lambda, w1 =10, w0 =-5, sigma = 0,  trials = Ntrials,  K=10, A=1, persd=0):\n",
    "    \n",
    "    y = np.zeros(trials)\n",
    "    theta = np.zeros(trials)\n",
    "    s_per = np.zeros(trials)\n",
    "    s_phy = np.zeros(trials)\n",
    "    perd = np.zeros(trials)\n",
    "    phyd = d \n",
    "    v = np.zeros(trials + 1)\n",
    "    g = np.zeros(trials)\n",
    "    perd = np.zeros(trials)\n",
    "    color = [\"red\", \"#56B4E9\"]\n",
    "\n",
    "    \n",
    "    for t in range(trials):\n",
    "        perd[t] = abs(np.random.normal(phyd[t], persd))\n",
    "        v[t + 1] = v[t] + alpha * (r[t] - v[t]) if k[t] == 1 else v[t]\n",
    "        s_per[t] = np.exp(-_lambda * perd[t])\n",
    "        s_phy[t] = np.exp(-_lambda * phyd[t])\n",
    "        g[t] = v[t] * s_per[t]\n",
    "        theta[t] = A + (K - A) / (1 + np.exp(-(w0 + w1 * g[t])))\n",
    "        y[t]  = np.random.normal(theta[t], sigma)\n",
    "\n",
    "    data = pd.DataFrame({\n",
    "        'theta': theta,\n",
    "        's_per': s_per,\n",
    "        's_phy': s_phy,\n",
    "        'v': v[:Ntrials],  \n",
    "        'g': g,\n",
    "        'stim': stimulus,  \n",
    "        'y': y,\n",
    "        'trials': np.arange(1, Ntrials + 1),  \n",
    "        'phyd': phyd,\n",
    "        'perd': perd,\n",
    "        'r': r,\n",
    "        's_size': s_size\n",
    "    })\n",
    "    data['percept'] = np.where(data['perd'] < 5, '1', \n",
    "                           np.where((data['perd'] > 5) & (data['perd'] < 15), '2', '3'))\n",
    "    return data\n",
    "\n"
   ]
  },
  {
   "cell_type": "code",
   "execution_count": null,
   "metadata": {},
   "outputs": [],
   "source": [
    "def do_plt1(data, title, alpha, _lambda, persd = 0):\n",
    "    stim_colors = {'CS+': 'red', 'TS': '#56B4E9'}\n",
    "\n",
    "    plot_data = data[data['trials'] <= 24]\n",
    "    plt.figure(figsize=(10, 6))\n",
    "    plt.plot(plot_data['trials'], plot_data['v'], linestyle='-', linewidth=1.2, color='black', label='v')\n",
    "    shape_map = {1: 'o', 0: 's'}\n",
    "    for i, row in plot_data.iterrows():\n",
    "        plt.scatter(row['trials'], row['v'], color=stim_colors[row['stim']], s=100, marker=shape_map[row['r']])\n",
    "\n",
    "    plt.ylim(0, 1)\n",
    "    plt.xlabel('Trials')\n",
    "    plt.ylabel('Associative strengths')\n",
    "    plt.title(f\"{title}\\nα = {alpha} ; λ = {_lambda}; perceptual sd = {persd}\")\n",
    "\n",
    "    plt.grid(True, which='both', linestyle='--', linewidth=0.5)\n",
    "    plt.gca().set_facecolor('white')\n",
    "    plt.legend(loc='lower center', ncol=2, frameon=False)\n",
    "    plt1 = plt    \n",
    "    return plt1 \n",
    "def do_plt2(data, title, alpha, _lambda, persd = 0):\n",
    "    stim_colors = {'CS+': 'red', 'TS': '#56B4E9'}\n",
    "\n",
    "    # Plot 2: Similarity to CS+ based on stimulus size    \n",
    "    data_plt2 = data.sort_values(by='s_size')\n",
    "    plt.figure(figsize=(10, 6))\n",
    "    plt.plot(data_plt2['s_size'], data_plt2['s_phy'], linestyle='-', linewidth=1.2, color='black', label=\"Physical similarity to CS+\")\n",
    "    plt.scatter(data_plt2['s_size'], data_plt2['s_per'], color=[stim_colors[stim] for stim in data_plt2['stim']], s=100, label=\"Perceived similarity\")\n",
    "    \n",
    "    plt.xlabel('Stimulus size')\n",
    "    plt.ylabel('Similarity to CS+')\n",
    "    plt.title(f\"{title}\\nα = {alpha} ; λ = {_lambda}; perceptual sd = {persd}\")\n",
    "\n",
    "    plt.legend([\"Physical similarity to CS+\", \"Perceived similarity\"], loc='lower center', ncol=2, frameon=False)\n",
    "    plt.grid(True, which='both', linestyle='--', linewidth=0.5)\n",
    "    plt.gca().set_facecolor('white')\n",
    "    plt2 = plt    \n",
    "    return plt2\n",
    "def do_plt3(data, title, alpha,_lambda, persd = 0):\n",
    "    data = data.sort_values(by='s_size')\n",
    "    data['percept'] = np.where(data['perd'] < 10, '1', np.where((data['perd'] > 10) & (data['perd'] < 20), '2', '3'))\n",
    "    data['meansper'] = data.groupby('s_size')['s_per'].transform('mean')\n",
    "    plt.figure(figsize=(10, 6))\n",
    "    plt.plot(data['s_size'], data['s_phy'], linestyle='--', color='grey', linewidth=1.2, label=\"Physical similarity\")\n",
    "    unique_sizes = data['s_size'].unique()\n",
    "    mean_per_size = data.groupby('s_size')['meansper'].mean()\n",
    "    plt.plot(unique_sizes, mean_per_size, color='black', linewidth=1.2, label=\"Mean perceived similarity\")\n",
    "    stim_colors = {'CS+': 'red', 'TS': '#56B4E9'}\n",
    "    shape_map = {'1': 'o', '2': '^', '3': 's'}  \n",
    "\n",
    "    for percept in data['percept'].unique():\n",
    "        subset = data[data['percept'] == percept]\n",
    "        plt.scatter(subset['s_size'], subset['s_per'], \n",
    "                    color=[stim_colors[stim] for stim in subset['stim']], \n",
    "                    edgecolor='black', s=100, \n",
    "                    marker=shape_map[percept], label=f'Perceptual distance {percept}')\n",
    "\n",
    "    plt.xlabel('Stimulus size')\n",
    "    plt.ylabel('Similarity to CS+')\n",
    "    plt.ylim(0, 1)\n",
    "    plt.xticks(sorted(data['s_size'].unique()))\n",
    "    plt.yticks(np.arange(0, 1.25, 0.25))\n",
    "    plt.title(f\"{title}\\nα = {alpha} ; λ = {_lambda}; perceptual sd = {persd}\")\n",
    "\n",
    "    # Add legend and grid\n",
    "    plt.legend(title=\"Legend\", loc='lower center', ncol=3, frameon=False)\n",
    "    plt.grid(True, which='both', linestyle='--', linewidth=0.5)\n",
    "    plt.gca().set_facecolor('white')\n",
    "    plt3 = plt\n",
    "    return plt3\n"
   ]
  },
  {
   "cell_type": "code",
   "execution_count": null,
   "metadata": {},
   "outputs": [],
   "source": [
    "K=10\n",
    "A=1\n",
    "w1=10\n",
    "w0=-5\n",
    "trials = 100"
   ]
  },
  {
   "cell_type": "markdown",
   "metadata": {},
   "source": [
    "### Alter learning rate"
   ]
  },
  {
   "cell_type": "code",
   "execution_count": null,
   "metadata": {},
   "outputs": [],
   "source": [
    "alpha_high = 0.3\n",
    "alpha_low = 0.01\n",
    "lambda_ = 0.3\n",
    "\n",
    "L_sim_high = lg_fun(alpha_high, lambda_, w1=10)\n",
    "L_sim_high_plot = do_plt1(L_sim_high, \"High learning rate\",alpha_high,lambda_ )\n",
    "L_sim_high_plot.savefig(f\"{plts_folder}/ChangeLearning_High.png\", dpi=300)\n",
    "\n",
    "L_sim_low = lg_fun(alpha_low, lambda_, w1=10)\n",
    "L_sim_low_plot = do_plt1(L_sim_low, \"Low learning rate\",alpha_low,lambda_ )\n",
    "L_sim_low_plot.savefig(f\"{plts_folder}/ChangeLearning_Low.png\", dpi=300)\n",
    "\n",
    "\n"
   ]
  },
  {
   "cell_type": "markdown",
   "metadata": {},
   "source": [
    "### Alter generalization rate:"
   ]
  },
  {
   "cell_type": "code",
   "execution_count": null,
   "metadata": {},
   "outputs": [],
   "source": [
    "alpha = 0.1\n",
    "lambda_high = 0.3\n",
    "lambda_low = 0.01\n",
    "\n",
    "G_sim_high = lg_fun(alpha, lambda_high, w1=10)\n",
    "G_sim_high_plot = do_plt2(G_sim_high, \"High generalization rate \",alpha_high,lambda_ )\n",
    "G_sim_high_plot.savefig(f\"{plts_folder}/ChangeGeneralization_High.png\", dpi=300)\n",
    "\n",
    "G_sim_low = lg_fun(alpha, lambda_low, w1=10)\n",
    "G_sim_low_plot = do_plt2(G_sim_low, \"Low generalization rate\",alpha_low,lambda_ )\n",
    "G_sim_low_plot.savefig(f\"{plts_folder}/ChangeGeneralization_Low.png\", dpi=300)\n"
   ]
  },
  {
   "cell_type": "markdown",
   "metadata": {},
   "source": [
    "### Alter persd"
   ]
  },
  {
   "cell_type": "code",
   "execution_count": null,
   "metadata": {},
   "outputs": [],
   "source": [
    "pers_d_low = 2\n",
    "pers_d_high = 20\n",
    "\n",
    "P_sim_high = lg_fun(0.1, 0.1, w1=10, persd=pers_d_high )\n",
    "P_sim_high_plot = do_plt3(P_sim_high, \"High perceptual variability\",0.1,0.1 )\n",
    "P_sim_high_plot.savefig(f\"{plts_folder}/ChangePersd_High.png\", dpi=300)\n",
    "\n",
    "\n",
    "P_sim_low = lg_fun(0.1,0.1, w1=10, persd=pers_d_low)\n",
    "P_sim_low_plot = do_plt3(P_sim_low, \"Low perceptual variability\",0.1,0.1 )\n",
    "P_sim_low_plot.savefig(f\"{plts_folder}/ChangePersd_Low.png\", dpi=300)\n",
    "\n",
    "\n",
    "\n"
   ]
  },
  {
   "cell_type": "code",
   "execution_count": null,
   "metadata": {},
   "outputs": [],
   "source": [
    "def logit(w01, w02, w03, w04, w05, w06, w11, w12, w13, w14, w15, w16):\n",
    "    # Generate a grid of g values (less dense for clarity)\n",
    "    g = np.linspace(-1, 1, 10)  # Using fewer points for better clarity\n",
    "    p_matrices = []\n",
    "\n",
    "    # Calculate probabilities for each pair of w0 and w1\n",
    "    weights = [(w01, w11), (w02, w12), (w03, w13), (w04, w14), (w05, w15), (w06, w16)]\n",
    "    for w0, w1 in weights:\n",
    "        p = 1 + 9 / (1 + np.exp(-(w0 + w1 * g)))  # Compute θ values\n",
    "        p_matrices.append(p)\n",
    "\n",
    "    # Plot all probabilities with clearer style\n",
    "    plt.figure(figsize=(8, 6))\n",
    "    colors = [\"red\", \"blue\", \"pink\", \"green\", \"purple\", \"brown\"]\n",
    "    labels = [\n",
    "        f\"w0 = {w01}, w1 = {w11}\", f\"w0 = {w02}, w1 = {w12}\", f\"w0 = {w03}, w1 = {w13}\",\n",
    "        f\"w0 = {w04}, w1 = {w14}\", f\"w0 = {w05}, w1 = {w15}\", f\"w0 = {w06}, w1 = {w16}\"\n",
    "    ]\n",
    "\n",
    "    # Loop through each set of probabilities, using clean lines and small markers\n",
    "    for p, color, label in zip(p_matrices, colors, labels):\n",
    "        plt.plot(g, p, color=color, marker='o', markersize=5, label=label, linestyle='-', linewidth=1.5)\n",
    "\n",
    "    plt.xlabel(\"g\")\n",
    "    plt.ylabel(\"θ\")\n",
    "    plt.ylim(1, 10)\n",
    "    plt.legend(title=\"Parameter pairs\", loc='upper left', fontsize=9)\n",
    "    plt.grid(True, which='both', linestyle='--', linewidth=0.5)\n",
    "\n",
    "    plt.savefig(f\"{plts_folder}/ChangeW.png\", dpi=300)\n",
    "    plt.show()\n",
    "\n",
    "# Test the function\n",
    "logit(w01=3, w02=3, w03=0, w04=0, w05=-3, w06=-3, w11=5, w12=20, w13=5, w14=20, w15=5, w16=20)\n"
   ]
  }
 ],
 "metadata": {
  "kernelspec": {
   "display_name": ".venv",
   "language": "python",
   "name": "python3"
  },
  "language_info": {
   "codemirror_mode": {
    "name": "ipython",
    "version": 3
   },
   "file_extension": ".py",
   "mimetype": "text/x-python",
   "name": "python",
   "nbconvert_exporter": "python",
   "pygments_lexer": "ipython3",
   "version": "3.11.9"
  }
 },
 "nbformat": 4,
 "nbformat_minor": 2
}
