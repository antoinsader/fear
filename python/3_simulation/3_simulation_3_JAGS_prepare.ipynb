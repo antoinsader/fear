{
 "cells": [
  {
   "cell_type": "markdown",
   "metadata": {},
   "source": [
    "## PYMC fitting\n",
    "### Input data\n"
   ]
  },
  {
   "cell_type": "code",
   "execution_count": null,
   "metadata": {},
   "outputs": [],
   "source": [
    "import pickle\n",
    "import pandas as pd \n",
    "import numpy as np\n",
    "\n",
    "root_folder= \"../../\"\n",
    "data_folder= root_folder + \"Data/\""
   ]
  },
  {
   "cell_type": "code",
   "execution_count": null,
   "metadata": {},
   "outputs": [],
   "source": [
    "def load_data_from_pickle(filename):\n",
    "    with open(filename, 'rb') as file:\n",
    "        data = pickle.load(file)\n",
    "    return data\n",
    "data = load_data_from_pickle(f\"{data_folder}res_py/Data_s2.pkl\")\n",
    "data = data[data['participant'] == 1]\n",
    "\n",
    "data = data.sort_values(by=['participant', 'trials'])\n",
    "\n",
    "Ngroup1 = 50\n",
    "Ngroup2 = 50\n",
    "Ngroup3 = 50\n",
    "Ngroup4 = 50\n",
    "\n",
    "# Calculate the total number of participants\n",
    "Nparticipants = Ngroup1 + Ngroup2 + Ngroup3 + Ngroup4\n",
    "\n",
    "# Get the number of trials from the data\n",
    "Ntrials = int(data['trials'].max())\n",
    "\n",
    "# Set the number of actual trials (excluding warm-up and cool-down trials)\n",
    "Nactrials = 24\n",
    "\n",
    "# Define the group names and colors for plots\n",
    "group_nm = [\"Non-Learners\", \"Overgeneralizers\", \"Physical Generalizers\", \"Perceptual Generalizers\", \"Unknown\"]\n",
    "color_gp = [\"#CC79A7\", \"#F0E442\", \"#56B4E9\", \"#D55E00\"]\n"
   ]
  },
  {
   "cell_type": "code",
   "execution_count": 10,
   "metadata": {},
   "outputs": [],
   "source": [
    "def save_data_as_pickle(data, filename):\n",
    "    with open(filename, 'wb') as file:\n",
    "        pickle.dump(data, file)"
   ]
  },
  {
   "cell_type": "code",
   "execution_count": null,
   "metadata": {},
   "outputs": [],
   "source": [
    "\n",
    "result = pd.read_csv(f\"{data_folder}res_py/result_3_simulation.csv\")\n",
    "\n",
    "q = np.reshape(result['d_per_p'], (Nparticipants, -1), order='F')[:,]\n",
    "q2= np.reshape(result['d_per_p'], (Nparticipants, -1), order='F')\n",
    "\n"
   ]
  },
  {
   "cell_type": "code",
   "execution_count": null,
   "metadata": {},
   "outputs": [],
   "source": [
    "def PYMCData(L):\n",
    "    return {\n",
    "        \"Nparticipants\": Nparticipants,\n",
    "        \"Ntrials\": [Ntrials- Nactrials + 1 , Ntrials   ][L],\n",
    "        \"Nactrials\": Nactrials,\n",
    "         \"y\": [np.reshape(result.y, (Nparticipants, -1), order='F')[:, Nactrials-1:Ntrials], np.reshape(result.y, (Nparticipants, -1), order='F')][L].ravel(order=\"f\"),\n",
    "        \"d_p_per\": [np.reshape(result['d_per_p'], (Nparticipants, -1), order='F')[:, Nactrials-1:Ntrials], np.reshape(result['d_per_p'], (Nparticipants, -1), order='F')][L].ravel(order=\"f\"),\n",
    "        \"d_m_per\": [np.reshape(result['d_per_m'], (Nparticipants, -1), order='F')[:, Nactrials-1:Ntrials], np.reshape(result['d_per_m'], (Nparticipants, -1), order='F')][L].ravel(order=\"f\"),\n",
    "        \"d_p_phy\": [np.reshape(result['d_phy_p'], (Nparticipants, -1), order='F')[:, Nactrials-1:Ntrials], np.reshape(result['d_phy_p'], (Nparticipants, -1), order='F')][L].ravel(order=\"f\"),\n",
    "        \"d_m_phy\": [np.reshape(result['d_phy_m'], (Nparticipants, -1), order='F')[:, Nactrials-1:Ntrials], np.reshape(result['d_phy_m'], (Nparticipants, -1), order='F')][L].ravel(order=\"f\"),\n",
    "       \n",
    "    }\n",
    "\n",
    "save_data_as_pickle(PYMCData(1), f\"{data_folder}/res_py/Sim_PYMCinput_CLG.pkl\")\n",
    "save_data_as_pickle(PYMCData(0), f\"{data_folder}res_py/Sim_PYMCinput_G.pkl\")\n",
    "\n",
    "\n",
    "\n"
   ]
  }
 ],
 "metadata": {
  "kernelspec": {
   "display_name": "Python 3",
   "language": "python",
   "name": "python3"
  },
  "language_info": {
   "codemirror_mode": {
    "name": "ipython",
    "version": 3
   },
   "file_extension": ".py",
   "mimetype": "text/x-python",
   "name": "python",
   "nbconvert_exporter": "python",
   "pygments_lexer": "ipython3",
   "version": "3.11.9"
  }
 },
 "nbformat": 4,
 "nbformat_minor": 2
}
